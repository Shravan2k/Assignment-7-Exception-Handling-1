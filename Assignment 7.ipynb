{
 "cells": [
  {
   "cell_type": "markdown",
   "id": "4a447ce7",
   "metadata": {},
   "source": [
    "# Q1. What is an Exception in python? Write the difference between Exceptions and Syntax errors."
   ]
  },
  {
   "cell_type": "markdown",
   "id": "96ffea0a",
   "metadata": {},
   "source": [
    "Errors are the problems in a program due to which the program will stop the execution. On the other hand, exceptions are raised when some internal events occur which changes the normal flow of the program."
   ]
  },
  {
   "cell_type": "code",
   "execution_count": null,
   "id": "8a6229b3",
   "metadata": {},
   "outputs": [],
   "source": []
  },
  {
   "cell_type": "markdown",
   "id": "e4cd4bc6",
   "metadata": {},
   "source": [
    "# Q2. What happens when an exception is not handled? Explain with an example"
   ]
  },
  {
   "cell_type": "markdown",
   "id": "1d9c9937",
   "metadata": {},
   "source": [
    "When an exception is not handled, it propagates through the program's execution stack until it either reaches an appropriate exception handler or terminates the program if no handler is found. This process is known as \"unhandled exception\" or \"exception propagation.\""
   ]
  },
  {
   "cell_type": "code",
   "execution_count": 1,
   "id": "cdf7205f",
   "metadata": {},
   "outputs": [
    {
     "name": "stdout",
     "output_type": "stream",
     "text": [
      "The result of the division is: 0.4\n",
      "Error: Division by zero is not allowed. division by zero\n"
     ]
    }
   ],
   "source": [
    "def divide_numbers(a, b):\n",
    "    try:\n",
    "        result = a / b\n",
    "        print(\"The result of the division is:\", result)\n",
    "    except ZeroDivisionError as e:\n",
    "        print(\"Error: Division by zero is not allowed.\",e)\n",
    "\n",
    "divide_numbers(2, 5)  \n",
    "\n",
    "divide_numbers(3, 0)"
   ]
  },
  {
   "cell_type": "code",
   "execution_count": null,
   "id": "7f367432",
   "metadata": {},
   "outputs": [],
   "source": []
  },
  {
   "cell_type": "markdown",
   "id": "85ad4c20",
   "metadata": {},
   "source": [
    "# Q3. Which Python statements are used to catch and handle exceptions? Explain with an example."
   ]
  },
  {
   "cell_type": "markdown",
   "id": "8a82b7f8",
   "metadata": {},
   "source": [
    "Exceptions can be caught and handled in python using the try ,except and finally statements. The try block is used to enclose the code that may raise an exception, and the except block is used to specify the handling of the exception and the finally block executes no matter if the exception is caught or not."
   ]
  },
  {
   "cell_type": "code",
   "execution_count": 2,
   "id": "146d35c3",
   "metadata": {},
   "outputs": [
    {
     "name": "stdout",
     "output_type": "stream",
     "text": [
      "The result of the division is: 0.4\n",
      "program is executed\n",
      "Error: Division by zero is not allowed. division by zero\n",
      "program is executed\n"
     ]
    }
   ],
   "source": [
    "def divide_numbers(a, b):\n",
    "    try:\n",
    "        result = a / b\n",
    "        print(\"The result of the division is:\", result)\n",
    "    except ZeroDivisionError as e:\n",
    "        print(\"Error: Division by zero is not allowed.\",e)\n",
    "    finally:\n",
    "        print(\"program is executed\")\n",
    "\n",
    "divide_numbers(2, 5)  \n",
    "\n",
    "divide_numbers(3, 0)"
   ]
  },
  {
   "cell_type": "code",
   "execution_count": null,
   "id": "b29643b5",
   "metadata": {},
   "outputs": [],
   "source": []
  },
  {
   "cell_type": "markdown",
   "id": "611d89c7",
   "metadata": {},
   "source": [
    "# Q4. Explain with an example:1. try and else 2.finally 3.raise\n"
   ]
  },
  {
   "cell_type": "code",
   "execution_count": 3,
   "id": "e834c55f",
   "metadata": {},
   "outputs": [
    {
     "name": "stdout",
     "output_type": "stream",
     "text": [
      "this block will execute once try block will execute itself without an exception\n"
     ]
    }
   ],
   "source": [
    "#try and else\n",
    "try :\n",
    "    f = open(\"test.txt\",'w')\n",
    "    f.write(\"this is my message\")\n",
    "    \n",
    "except Exception as e:\n",
    "    print(\"there is some issue with my code\",e)\n",
    "    \n",
    "else:\n",
    "    f.close()\n",
    "    print(\"this block will execute once try block will execute itself without an exception\")"
   ]
  },
  {
   "cell_type": "code",
   "execution_count": 4,
   "id": "be26774a",
   "metadata": {},
   "outputs": [
    {
     "name": "stdout",
     "output_type": "stream",
     "text": [
      "this block will execute once try block will execute itself without an exception\n",
      "this block will always execute no matter what\n"
     ]
    }
   ],
   "source": [
    "#finally\n",
    "try :\n",
    "    f = open(\"test.txt\",'w')\n",
    "    f.write(\"this is my message\")\n",
    "    \n",
    "except Exception as e:\n",
    "    print(\"there is some issue with my code\",e)\n",
    "    \n",
    "else:\n",
    "    f.close()\n",
    "    print(\"this block will execute once try block will execute itself without an exception\")\n",
    "    \n",
    "finally:\n",
    "    print(\"this block will always execute no matter what\")"
   ]
  },
  {
   "cell_type": "code",
   "execution_count": 5,
   "id": "f6c60d15",
   "metadata": {},
   "outputs": [
    {
     "name": "stdout",
     "output_type": "stream",
     "text": [
      "Enter your age987\n",
      "age is too big\n"
     ]
    }
   ],
   "source": [
    "#raise\n",
    "class validateage(Exception):\n",
    "    def __init__(self,msg):\n",
    "        self.msg=msg\n",
    "        \n",
    "\n",
    "def validate_age(age):\n",
    "    if age<0 :\n",
    "        raise validateage(\"age cant be less than 0\")\n",
    "    elif age>200:\n",
    "        raise validateage(\"age is too big\")\n",
    "    else:\n",
    "        raise validateage(\"age is valid\")\n",
    "\n",
    "try:\n",
    "    age= int(input(\"Enter your age\"))\n",
    "    validate_age(age)\n",
    "except validateage as e:\n",
    "    print(e)"
   ]
  },
  {
   "cell_type": "code",
   "execution_count": null,
   "id": "b26ca730",
   "metadata": {},
   "outputs": [],
   "source": []
  },
  {
   "cell_type": "markdown",
   "id": "c084e807",
   "metadata": {},
   "source": [
    "# Q5. What are Custom Exceptions in python? Why do we need Custom Exceptions? Explain with an example."
   ]
  },
  {
   "cell_type": "markdown",
   "id": "b7dc94b6",
   "metadata": {},
   "source": [
    "Custom exceptions, also known as user-defined exceptions, are exceptions that you create in your Python code to represent specific error conditions or exceptional situations that are not covered by the built-in exceptions provided by Python.\n",
    "\n",
    "->Provide more descriptive error messages.\n",
    "\n",
    "->Enhance code modularity and organization.\n",
    "\n",
    "->Enable clearer and explicit exception handling.\n",
    "\n",
    "->Offer extensibility and flexibility in defining exception hierarchies.\n",
    "\n",
    "->Facilitate domain-specific error handling."
   ]
  },
  {
   "cell_type": "code",
   "execution_count": 6,
   "id": "d72bfd56",
   "metadata": {},
   "outputs": [
    {
     "name": "stdout",
     "output_type": "stream",
     "text": [
      "Enter your age-764\n",
      "age cant be less than 0\n"
     ]
    }
   ],
   "source": [
    "#raise\n",
    "class validateage(Exception):\n",
    "    def __init__(self,msg):\n",
    "        self.msg=msg\n",
    "        \n",
    "\n",
    "def validate_age(age):\n",
    "    if age<0 :\n",
    "        raise validateage(\"age cant be less than 0\")\n",
    "    elif age>200:\n",
    "        raise validateage(\"age is too big\")\n",
    "    else:\n",
    "        raise validateage(\"age is valid\")\n",
    "\n",
    "try:\n",
    "    age= int(input(\"Enter your age\"))\n",
    "    validate_age(age)\n",
    "except validateage as e:\n",
    "    print(e)"
   ]
  },
  {
   "cell_type": "code",
   "execution_count": null,
   "id": "358fb159",
   "metadata": {},
   "outputs": [],
   "source": []
  },
  {
   "cell_type": "markdown",
   "id": "2b54e521",
   "metadata": {},
   "source": [
    "# Q6. Create a custom exception class. Use this class to handle an exception"
   ]
  },
  {
   "cell_type": "code",
   "execution_count": 7,
   "id": "19b04253",
   "metadata": {},
   "outputs": [
    {
     "name": "stdout",
     "output_type": "stream",
     "text": [
      "Operation cant be performed type of variables is diiferent\n",
      "Program complteted its execution\n"
     ]
    }
   ],
   "source": [
    "class addition_class(Exception):\n",
    "    def __init__(self,msg):\n",
    "        self.msg = msg\n",
    "        \n",
    "\n",
    "def add_opperation(a,b):\n",
    "    if type(a) != type(b):\n",
    "        raise addition_class(\"Operation cant be performed type of variables is diiferent\")\n",
    "    else:\n",
    "        r=a+b\n",
    "        raise addition_class(f\"Result is : {r} \")\n",
    "        \n",
    "\n",
    "try:\n",
    "        add_opperation(\"str\",12)\n",
    "except addition_class as e:\n",
    "    print(e)\n",
    "finally:\n",
    "    print(\"Program complteted its execution\")"
   ]
  },
  {
   "cell_type": "code",
   "execution_count": null,
   "id": "306c8089",
   "metadata": {},
   "outputs": [],
   "source": []
  }
 ],
 "metadata": {
  "kernelspec": {
   "display_name": "Python 3 (ipykernel)",
   "language": "python",
   "name": "python3"
  },
  "language_info": {
   "codemirror_mode": {
    "name": "ipython",
    "version": 3
   },
   "file_extension": ".py",
   "mimetype": "text/x-python",
   "name": "python",
   "nbconvert_exporter": "python",
   "pygments_lexer": "ipython3",
   "version": "3.11.5"
  }
 },
 "nbformat": 4,
 "nbformat_minor": 5
}
